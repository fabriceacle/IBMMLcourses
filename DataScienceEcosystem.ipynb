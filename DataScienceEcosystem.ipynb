{
 "cells": [
  {
   "cell_type": "markdown",
   "id": "6c137d72-80f1-4ab6-ab67-7fd2ff9252b3",
   "metadata": {},
   "source": [
    "# Data Science Tools and Ecosystem"
   ]
  },
  {
   "cell_type": "markdown",
   "id": "cd0b2e54-2c6d-432d-bee0-9a5b46d99027",
   "metadata": {},
   "source": [
    "In this notebook, Data Science Tools and Ecosystem are summarized."
   ]
  },
  {
   "cell_type": "markdown",
   "id": "68a0ce36-8632-478d-9225-a4874de8b67f",
   "metadata": {},
   "source": [
    "**Objectives :**\n",
    "* Create a Jupyter Notebook\n",
    "* Create markdown cell with title of the notebook\n",
    "* Create a markdown cell for an introduction\n",
    "* Create a markdown cell to list data science languages\n",
    "* Create a markdown cell with a table of Data Science tools\n",
    "* Create a markdown cell to list data science libraries"
   ]
  },
  {
   "cell_type": "markdown",
   "id": "385fde38-dabf-40cd-b09c-e2e486e28014",
   "metadata": {},
   "source": [
    "Some of the popular languages that Data Scientists use are:\n",
    "\n",
    "1. Python\n",
    "1. R\n",
    "1. Java\n",
    "1. Scala\n",
    "1. Julia"
   ]
  },
  {
   "cell_type": "markdown",
   "id": "95660e1c-1292-4674-8102-6c4f2bea1fcf",
   "metadata": {},
   "source": [
    "Some of the commonly used libraries used by Data Scientists include:\n",
    "\n",
    "1. Matplotlib\n",
    "1. Pandas\n",
    "1. Numpy\n",
    "1. Seaborn"
   ]
  },
  {
   "cell_type": "markdown",
   "id": "46749dda-869d-48ed-8926-178a0edbc34b",
   "metadata": {},
   "source": [
    "| Data Science Tools|\n",
    "| ----------------- |\n",
    "| R Studio          |\n",
    "| Spyder            |\n",
    "| JupyterLab        |"
   ]
  },
  {
   "cell_type": "markdown",
   "id": "3d9fc3d5-4db2-46d2-a299-c309e24bca7b",
   "metadata": {},
   "source": [
    "### Below are a few examples of evaluating arithmetic expressions in Python"
   ]
  },
  {
   "cell_type": "code",
   "execution_count": 4,
   "id": "bfa1b3cf-0bde-46fe-8302-3c702dbb5aa9",
   "metadata": {},
   "outputs": [
    {
     "data": {
      "text/plain": [
       "17"
      ]
     },
     "execution_count": 4,
     "metadata": {},
     "output_type": "execute_result"
    }
   ],
   "source": [
    " # This a simple arithmetic expression to mutiply then add integers\n",
    "(3*4)+5"
   ]
  },
  {
   "cell_type": "code",
   "execution_count": 6,
   "id": "157e24a0-4a4c-43d0-9f92-2191a465d947",
   "metadata": {},
   "outputs": [
    {
     "data": {
      "text/plain": [
       "3"
      ]
     },
     "execution_count": 6,
     "metadata": {},
     "output_type": "execute_result"
    }
   ],
   "source": [
    "# This will convert 200 minutes to hours by diving by 60\n",
    "200//60"
   ]
  },
  {
   "cell_type": "markdown",
   "id": "a8c6d1b7-f626-4bc5-9960-68b7a3aed0f5",
   "metadata": {},
   "source": [
    "## Author\n",
    "Fabrice Roland ACLE"
   ]
  },
  {
   "cell_type": "code",
   "execution_count": null,
   "id": "9dce52a3-762c-4ac8-95ac-c0b268dc9abf",
   "metadata": {},
   "outputs": [],
   "source": []
  }
 ],
 "metadata": {
  "kernelspec": {
   "display_name": "Python 3 (ipykernel)",
   "language": "python",
   "name": "python3"
  },
  "language_info": {
   "codemirror_mode": {
    "name": "ipython",
    "version": 3
   },
   "file_extension": ".py",
   "mimetype": "text/x-python",
   "name": "python",
   "nbconvert_exporter": "python",
   "pygments_lexer": "ipython3",
   "version": "3.9.13"
  }
 },
 "nbformat": 4,
 "nbformat_minor": 5
}
